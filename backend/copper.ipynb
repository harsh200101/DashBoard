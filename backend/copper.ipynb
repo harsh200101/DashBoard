{
 "cells": [
  {
   "cell_type": "code",
   "execution_count": 2,
   "metadata": {},
   "outputs": [
    {
     "ename": "ModuleNotFoundError",
     "evalue": "No module named 'pandas'",
     "output_type": "error",
     "traceback": [
      "\u001b[0;31m---------------------------------------------------------------------------\u001b[0m",
      "\u001b[0;31mModuleNotFoundError\u001b[0m                       Traceback (most recent call last)",
      "\u001b[1;32m/home/user/projects/Dashboard/backend/copper.ipynb Cell 1\u001b[0m in \u001b[0;36m1\n\u001b[0;32m----> <a href='vscode-notebook-cell://theia-workspaces-ws-gn4z9.ap21.trial.applicationstudio.cloud.sap/home/user/projects/Dashboard/backend/copper.ipynb#W0sdnNjb2RlLXJlbW90ZQ%3D%3D?line=0'>1</a>\u001b[0m \u001b[39mimport\u001b[39;00m \u001b[39mpandas\u001b[39;00m \u001b[39mas\u001b[39;00m \u001b[39mpd\u001b[39;00m\n\u001b[1;32m      <a href='vscode-notebook-cell://theia-workspaces-ws-gn4z9.ap21.trial.applicationstudio.cloud.sap/home/user/projects/Dashboard/backend/copper.ipynb#W0sdnNjb2RlLXJlbW90ZQ%3D%3D?line=1'>2</a>\u001b[0m \u001b[39mimport\u001b[39;00m \u001b[39mnumpy\u001b[39;00m \u001b[39mas\u001b[39;00m \u001b[39mnp\u001b[39;00m\n\u001b[1;32m      <a href='vscode-notebook-cell://theia-workspaces-ws-gn4z9.ap21.trial.applicationstudio.cloud.sap/home/user/projects/Dashboard/backend/copper.ipynb#W0sdnNjb2RlLXJlbW90ZQ%3D%3D?line=2'>3</a>\u001b[0m \u001b[39mimport\u001b[39;00m \u001b[39mmatplotlib\u001b[39;00m\u001b[39m.\u001b[39;00m\u001b[39mpyplot\u001b[39;00m \u001b[39mas\u001b[39;00m \u001b[39mplt\u001b[39;00m\n",
      "\u001b[0;31mModuleNotFoundError\u001b[0m: No module named 'pandas'"
     ]
    }
   ],
   "source": [
    "import pandas as pd\n",
    "import numpy as np\n",
    "import matplotlib.pyplot as plt\n",
    "from sklearn.preprocessing import MinMaxScaler\n",
    "from tensorflow.keras.models import load_model\n",
    "\n",
    "# Load the dataset\n",
    "file_path = 'copper_final.csv'  # Update the path if necessary\n",
    "data = pd.read_csv(file_path)\n",
    "\n",
    "# Preprocessing\n",
    "data['VALID ON'] = pd.to_datetime(data['VALID ON'], format='%d-%m-%Y')\n",
    "data = data.sort_values('VALID ON')\n",
    "data['PRICE'] = data['PRICE'].replace(',', '', regex=True).astype(float)\n",
    "\n",
    "# Visualize the data\n",
    "plt.figure(figsize=(10, 5))\n",
    "plt.plot(data['VALID ON'], data['PRICE'], label=\"Copper Price\")\n",
    "plt.xlabel('Date')\n",
    "plt.ylabel('Price (USD)')\n",
    "plt.title('Copper Prices Over Time')\n",
    "plt.legend()\n",
    "plt.show()\n",
    "\n",
    "# Prepare the data for prediction\n",
    "prices = data['PRICE'].values.reshape(-1, 1)\n",
    "\n",
    "# Scale the data using MinMaxScaler\n",
    "scaler = MinMaxScaler(feature_range=(0, 1))\n",
    "scaled_prices = scaler.fit_transform(prices)\n",
    "\n",
    "# Load the pre-trained LSTM model\n",
    "model = load_model('Copper_Price_Prediction_LSTM.h5')\n",
    "\n",
    "# Prepare the last sequence (15 days) to make predictions\n",
    "sequence_length = 15  # Use 15 days of data to predict the next day\n",
    "last_sequence = scaled_prices[-sequence_length:]  # Last sequence of 15 days\n",
    "predicted_prices = []\n",
    "\n",
    "# Predict the next 3 days' prices\n",
    "for _ in range(3):  # Predict for 3 days\n",
    "    last_sequence_expanded = np.expand_dims(last_sequence, axis=0)  # Expand dimensions for the model\n",
    "    next_day_prediction = model.predict(last_sequence_expanded)\n",
    "    predicted_prices.append(next_day_prediction[0, 0])\n",
    "    \n",
    "    # Update the sequence with the predicted value\n",
    "    last_sequence = np.append(last_sequence, next_day_prediction, axis=0)\n",
    "    last_sequence = last_sequence[1:]  # Remove the first element to maintain the sequence length\n",
    "\n",
    "# Inverse transform the predicted prices\n",
    "predicted_prices = scaler.inverse_transform(np.array(predicted_prices).reshape(-1, 1))\n",
    "\n",
    "# Generate future dates\n",
    "future_dates = pd.date_range(start=data['VALID ON'].iloc[-1] + pd.Timedelta(days=1), periods=3)\n",
    "\n",
    "# Print the predicted prices with dates\n",
    "print(\"Predicted Prices for the Next 3 Days:\")\n",
    "for date, price in zip(future_dates, predicted_prices.flatten()):\n",
    "    print(f\"{date.strftime('%Y-%m-%d')}: ${price:.2f}\")"
   ]
  }
 ],
 "metadata": {
  "language_info": {
   "name": "python"
  }
 },
 "nbformat": 4,
 "nbformat_minor": 2
}
